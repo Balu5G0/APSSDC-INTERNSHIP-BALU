{
 "cells": [
  {
   "cell_type": "code",
   "execution_count": 1,
   "id": "af619141",
   "metadata": {},
   "outputs": [
    {
     "name": "stdout",
     "output_type": "stream",
     "text": [
      "hello world\n"
     ]
    }
   ],
   "source": [
    "print(\"hello world\")"
   ]
  },
  {
   "cell_type": "code",
   "execution_count": 3,
   "id": "933d6a86",
   "metadata": {},
   "outputs": [
    {
     "name": "stdout",
     "output_type": "stream",
     "text": [
      "Todays date is 29\n"
     ]
    }
   ],
   "source": [
    "print(\"Todays date is\", 29)"
   ]
  },
  {
   "cell_type": "code",
   "execution_count": 5,
   "id": "1500c5c7",
   "metadata": {},
   "outputs": [
    {
     "name": "stdout",
     "output_type": "stream",
     "text": [
      "Todays date is-29\n"
     ]
    }
   ],
   "source": [
    "print(\"Todays date is\",29, sep = '-')"
   ]
  },
  {
   "cell_type": "code",
   "execution_count": 6,
   "id": "d4811b34",
   "metadata": {},
   "outputs": [
    {
     "name": "stdout",
     "output_type": "stream",
     "text": [
      "1\t2\t3\t4\t5\t6\n"
     ]
    }
   ],
   "source": [
    "print(1,2,3,4,5,6, sep = '\\t')"
   ]
  },
  {
   "cell_type": "code",
   "execution_count": 7,
   "id": "e8e18bb2",
   "metadata": {},
   "outputs": [
    {
     "name": "stdout",
     "output_type": "stream",
     "text": [
      "1abc2abc3abc4abc5abc6\n"
     ]
    }
   ],
   "source": [
    "print(1,2,3,4,5,6, sep = 'abc')"
   ]
  },
  {
   "cell_type": "code",
   "execution_count": 8,
   "id": "00c0b873",
   "metadata": {},
   "outputs": [
    {
     "name": "stdout",
     "output_type": "stream",
     "text": [
      "hello world\n",
      "hello world\n",
      "hello world3\n"
     ]
    }
   ],
   "source": [
    "print(\"hello world\")\n",
    "print(\"hello world\")\n",
    "print(\"hello world3\")"
   ]
  },
  {
   "cell_type": "code",
   "execution_count": 9,
   "id": "0ae3e436",
   "metadata": {},
   "outputs": [
    {
     "name": "stdout",
     "output_type": "stream",
     "text": [
      "hello world\thello world\n",
      "hello world3\n"
     ]
    }
   ],
   "source": [
    "print(\"hello world\", end = '\\t')\n",
    "print(\"hello world\")\n",
    "print(\"hello world3\")"
   ]
  },
  {
   "cell_type": "markdown",
   "id": "68c672b9",
   "metadata": {},
   "source": [
    "### variables\n",
    "\n",
    " 1. it is the named memory locattion which holds some values \n",
    "\n",
    "### properties of declaring aa variable \n",
    "1.it can contain A TO Z and a to z 0 to 9\n",
    "2. it should not start with number \n",
    "3. no special charecters should be included in variable name except \n",
    "4. key words are not allowed "
   ]
  },
  {
   "cell_type": "code",
   "execution_count": 10,
   "id": "45b7e674",
   "metadata": {},
   "outputs": [],
   "source": [
    "a = 10\n",
    "A = 5"
   ]
  },
  {
   "cell_type": "code",
   "execution_count": 13,
   "id": "415fb083",
   "metadata": {},
   "outputs": [],
   "source": [
    "a = 55\n",
    "_a = 2256\n",
    "# 1a = 66\n",
    "# a-b = 23+66\n",
    "_ = 625\n",
    "a9 = 'python'\n",
    "a9_='APSSDC'"
   ]
  },
  {
   "cell_type": "markdown",
   "id": "28a31f45",
   "metadata": {},
   "source": [
    "### Data types in python\n",
    "\n",
    "\n",
    "primary data types->int, float, complex, string, booleans\n",
    "secondary datatypes->containers->list, tuple, dictionary, set \n"
   ]
  },
  {
   "cell_type": "code",
   "execution_count": 17,
   "id": "84bb0cde",
   "metadata": {},
   "outputs": [],
   "source": [
    "a = 55\n",
    "b = 55.66\n",
    "c = 5 + 6j\n",
    "d = True\n",
    "e = 'a+5/.,;'\n",
    "f = ['python', 65, 5+6j, 55.665]\n",
    "g = ('python',65, 5+6j, 55.665)\n",
    "h = {'name': 'python'}\n",
    "i = {1,2,3,4}"
   ]
  },
  {
   "cell_type": "code",
   "execution_count": 18,
   "id": "296af2d7",
   "metadata": {},
   "outputs": [
    {
     "name": "stdout",
     "output_type": "stream",
     "text": [
      "<class 'int'>\n"
     ]
    }
   ],
   "source": [
    "print(type(a))"
   ]
  },
  {
   "cell_type": "code",
   "execution_count": 20,
   "id": "06842c77",
   "metadata": {},
   "outputs": [
    {
     "name": "stdout",
     "output_type": "stream",
     "text": [
      "<class 'float'>\n"
     ]
    }
   ],
   "source": [
    "a = 55.66\n",
    "\n",
    "print(type(a))"
   ]
  },
  {
   "cell_type": "code",
   "execution_count": 21,
   "id": "b0403b08",
   "metadata": {},
   "outputs": [
    {
     "name": "stdout",
     "output_type": "stream",
     "text": [
      "<class 'complex'> <class 'set'>\n"
     ]
    }
   ],
   "source": [
    "print(type(c), type(i))"
   ]
  },
  {
   "cell_type": "code",
   "execution_count": 22,
   "id": "3a329ee5",
   "metadata": {},
   "outputs": [
    {
     "name": "stdout",
     "output_type": "stream",
     "text": [
      "123\n"
     ]
    }
   ],
   "source": [
    "a = input()"
   ]
  },
  {
   "cell_type": "code",
   "execution_count": 23,
   "id": "fa768b2a",
   "metadata": {},
   "outputs": [],
   "source": [
    "abc = 556.6"
   ]
  },
  {
   "cell_type": "code",
   "execution_count": 24,
   "id": "175647f7",
   "metadata": {},
   "outputs": [
    {
     "name": "stdout",
     "output_type": "stream",
     "text": [
      "<class 'str'>\n"
     ]
    }
   ],
   "source": [
    "print(type(a))"
   ]
  },
  {
   "cell_type": "code",
   "execution_count": 29,
   "id": "c1da6488",
   "metadata": {},
   "outputs": [
    {
     "name": "stdout",
     "output_type": "stream",
     "text": [
      "<class 'str'>1,2,3\n"
     ]
    }
   ],
   "source": [
    "b = input(type(b))"
   ]
  },
  {
   "cell_type": "markdown",
   "id": "c51926bd",
   "metadata": {},
   "source": [
    "### type conversions "
   ]
  },
  {
   "cell_type": "code",
   "execution_count": 30,
   "id": "f6023f52",
   "metadata": {},
   "outputs": [
    {
     "name": "stdout",
     "output_type": "stream",
     "text": [
      "123\n",
      "123 <class 'int'>\n"
     ]
    }
   ],
   "source": [
    "a = int(input())\n",
    "\n",
    "\n",
    "print(a, type(a))"
   ]
  },
  {
   "cell_type": "code",
   "execution_count": 33,
   "id": "811a8e78",
   "metadata": {},
   "outputs": [
    {
     "name": "stdout",
     "output_type": "stream",
     "text": [
      "22 33 21\n"
     ]
    },
    {
     "ename": "ValueError",
     "evalue": "invalid literal for int() with base 10: '22 33 21'",
     "output_type": "error",
     "traceback": [
      "\u001b[1;31m---------------------------------------------------------------------------\u001b[0m",
      "\u001b[1;31mValueError\u001b[0m                                Traceback (most recent call last)",
      "\u001b[1;32m<ipython-input-33-c441f7a98159>\u001b[0m in \u001b[0;36m<module>\u001b[1;34m\u001b[0m\n\u001b[1;32m----> 1\u001b[1;33m \u001b[0ma\u001b[0m \u001b[1;33m=\u001b[0m \u001b[0mint\u001b[0m\u001b[1;33m(\u001b[0m\u001b[0minput\u001b[0m\u001b[1;33m(\u001b[0m\u001b[1;33m)\u001b[0m\u001b[1;33m)\u001b[0m\u001b[1;33m\u001b[0m\u001b[1;33m\u001b[0m\u001b[0m\n\u001b[0m\u001b[0;32m      2\u001b[0m \u001b[1;33m\u001b[0m\u001b[0m\n\u001b[0;32m      3\u001b[0m \u001b[0mpint\u001b[0m\u001b[1;33m(\u001b[0m\u001b[0ma\u001b[0m\u001b[1;33m,\u001b[0m \u001b[0mtype\u001b[0m\u001b[1;33m(\u001b[0m\u001b[0ma\u001b[0m\u001b[1;33m)\u001b[0m\u001b[1;33m)\u001b[0m\u001b[1;33m\u001b[0m\u001b[1;33m\u001b[0m\u001b[0m\n",
      "\u001b[1;31mValueError\u001b[0m: invalid literal for int() with base 10: '22 33 21'"
     ]
    }
   ],
   "source": [
    "a = int(input())\n",
    "\n",
    "pint(a, type(a))"
   ]
  },
  {
   "cell_type": "code",
   "execution_count": 37,
   "id": "e79f74ca",
   "metadata": {},
   "outputs": [
    {
     "name": "stdout",
     "output_type": "stream",
     "text": [
      "123.336\n",
      "123.336 <class 'float'>\n"
     ]
    }
   ],
   "source": [
    "a = float(input())\n",
    "\n",
    "print(a, type(a))"
   ]
  },
  {
   "cell_type": "markdown",
   "id": "19f1934e",
   "metadata": {},
   "source": [
    " ### Number System\n",
    "\n",
    "\n",
    " decimal -> 10->0-9\n",
    " binary->2->0.1\n",
    " octal->8->0.7\n",
    " hexadecimal->16->0.F"
   ]
  },
  {
   "cell_type": "code",
   "execution_count": 39,
   "id": "a6eb7867",
   "metadata": {},
   "outputs": [
    {
     "name": "stdout",
     "output_type": "stream",
     "text": [
      "0b110111 0o67 0x37\n"
     ]
    }
   ],
   "source": [
    "a = 55\n",
    "\n",
    "print(bin(a), oct(a), hex(a))"
   ]
  },
  {
   "cell_type": "code",
   "execution_count": 41,
   "id": "ea61c662",
   "metadata": {},
   "outputs": [
    {
     "name": "stdout",
     "output_type": "stream",
     "text": [
      "55 55 55\n"
     ]
    }
   ],
   "source": [
    "print(int('110111', 2), int('67', 8), int('37', 16))"
   ]
  },
  {
   "cell_type": "code",
   "execution_count": 42,
   "id": "20b443af",
   "metadata": {},
   "outputs": [
    {
     "name": "stdout",
     "output_type": "stream",
     "text": [
      "97\n"
     ]
    }
   ],
   "source": [
    "print(ord('a'))"
   ]
  },
  {
   "cell_type": "code",
   "execution_count": 43,
   "id": "5c3e7382",
   "metadata": {},
   "outputs": [
    {
     "name": "stdout",
     "output_type": "stream",
     "text": [
      "a\n"
     ]
    }
   ],
   "source": [
    "print(chr(97))"
   ]
  },
  {
   "cell_type": "markdown",
   "id": "6b8e4f18",
   "metadata": {},
   "source": [
    "### Operators in python\n",
    "\n",
    " - Arthematic operators -> +, -, *, /, %, //, **\n",
    " - Logical ->and, or, not\n",
    " - comparision /relational -> <, >, <=, >=, ==,!=\n",
    " - bitwise operators -> &(and), |(or),-(not),^(xor),>>(right shift), <<(left shift)\n",
    " - Assignment operators-> +=, -=, /=,%=,//=,**=\n",
    " - Identity operators->\n",
    " - membership operators"
   ]
  },
  {
   "cell_type": "code",
   "execution_count": 56,
   "id": "e19c67c5",
   "metadata": {},
   "outputs": [
    {
     "name": "stdout",
     "output_type": "stream",
     "text": [
      "0->1->False->0-><class 'str'>->False\n"
     ]
    }
   ],
   "source": [
    "a = 1\n",
    "b = 0\n",
    "c = '0'\n",
    "\n",
    "print(a and b, a or b, not a, a and c, type(a and c), not c, sep = '->')"
   ]
  },
  {
   "cell_type": "code",
   "execution_count": 54,
   "id": "4beac205",
   "metadata": {},
   "outputs": [
    {
     "name": "stdout",
     "output_type": "stream",
     "text": [
      "1\n"
     ]
    }
   ],
   "source": [
    "print(c and a)"
   ]
  },
  {
   "cell_type": "code",
   "execution_count": 57,
   "id": "b55821cd",
   "metadata": {},
   "outputs": [
    {
     "name": "stdout",
     "output_type": "stream",
     "text": [
      "6\n"
     ]
    }
   ],
   "source": [
    "a = 5 \n",
    "b = 6\n",
    "c = 0\n",
    "\n",
    "print(a and b)"
   ]
  },
  {
   "cell_type": "code",
   "execution_count": 58,
   "id": "43128433",
   "metadata": {},
   "outputs": [
    {
     "name": "stdout",
     "output_type": "stream",
     "text": [
      "0 0\n"
     ]
    }
   ],
   "source": [
    "print(a and c, c and a)"
   ]
  },
  {
   "cell_type": "code",
   "execution_count": 59,
   "id": "cca09c4a",
   "metadata": {},
   "outputs": [
    {
     "name": "stdout",
     "output_type": "stream",
     "text": [
      "True False False\n"
     ]
    }
   ],
   "source": [
    "a = 5\n",
    "b =6\n",
    "\n",
    "print(a < b, a>b, a == b)"
   ]
  },
  {
   "cell_type": "markdown",
   "id": "99992d44",
   "metadata": {},
   "source": [
    "### Bitwise Operators\n",
    "\n",
    "\n",
    "  - &, |, ~, ^\n",
    "\n",
    "\n",
    " - a = 4\n",
    " - b = 10\n",
    "\n",
    " - 4  ->0100\n",
    " - 10 ->1010\n",
    "    _____\n",
    "    0000 ->0 -> and\n",
    "    1110 ->14 -> or\n",
    "    \n",
    "~a\n",
    " - 4  -> 0100\n",
    "      0001\n",
    "      "
   ]
  },
  {
   "cell_type": "code",
   "execution_count": 60,
   "id": "95ff1871",
   "metadata": {},
   "outputs": [
    {
     "name": "stdout",
     "output_type": "stream",
     "text": [
      "3\n"
     ]
    }
   ],
   "source": [
    "print(a ^ b)"
   ]
  },
  {
   "cell_type": "markdown",
   "id": "4694ffb3",
   "metadata": {},
   "source": [
    "### Left shift and Right shift\n",
    "\n",
    "\n",
    "\n",
    "a = 4 -> 0100\n",
    "\n",
    "a<<2->010000\n",
    "\n",
    "a<<2->0001 ->1"
   ]
  },
  {
   "cell_type": "code",
   "execution_count": 61,
   "id": "f66fd5b7",
   "metadata": {},
   "outputs": [
    {
     "name": "stdout",
     "output_type": "stream",
     "text": [
      "16 1\n"
     ]
    }
   ],
   "source": [
    "a = 4\n",
    "\n",
    "print(a << 2, a>>2)"
   ]
  },
  {
   "cell_type": "code",
   "execution_count": 62,
   "id": "0346ae27",
   "metadata": {},
   "outputs": [
    {
     "name": "stdout",
     "output_type": "stream",
     "text": [
      "15\n",
      "25\n",
      "20\n"
     ]
    }
   ],
   "source": [
    "a = 5\n",
    "\n",
    "a = a +10\n",
    "print(a)\n",
    "a += 10\n",
    "print(a)\n",
    "a -= 5\n",
    "print(a)\n"
   ]
  },
  {
   "cell_type": "markdown",
   "id": "3f35b723",
   "metadata": {},
   "source": [
    "### Membership Operators"
   ]
  },
  {
   "cell_type": "code",
   "execution_count": 64,
   "id": "ca2d1400",
   "metadata": {},
   "outputs": [
    {
     "name": "stdout",
     "output_type": "stream",
     "text": [
      "False False True\n"
     ]
    }
   ],
   "source": [
    "a = 'python'\n",
    "b = 'py'\n",
    "c = 'py'\n",
    "\n",
    "print(a in b, a in c, a not in c)"
   ]
  },
  {
   "cell_type": "markdown",
   "id": "04201d7f",
   "metadata": {},
   "source": [
    "### Identity Operators"
   ]
  },
  {
   "cell_type": "code",
   "execution_count": 66,
   "id": "81f5d9a5",
   "metadata": {},
   "outputs": [],
   "source": [
    "a = 5\n",
    "b = 5.5\n",
    "c = 5\n",
    "d = [1,2,3]\n",
    "e = [1,2,3]"
   ]
  },
  {
   "cell_type": "code",
   "execution_count": 68,
   "id": "de154fa9",
   "metadata": {},
   "outputs": [
    {
     "name": "stdout",
     "output_type": "stream",
     "text": [
      "True True\n"
     ]
    }
   ],
   "source": [
    "print(a == c, d == e)"
   ]
  },
  {
   "cell_type": "code",
   "execution_count": 70,
   "id": "6eca0c16",
   "metadata": {},
   "outputs": [
    {
     "name": "stdout",
     "output_type": "stream",
     "text": [
      "1497785568\n",
      "1497785568\n",
      "99981864\n",
      "19964040\n",
      "109595656\n"
     ]
    }
   ],
   "source": [
    "print(id(a))\n",
    "print(id(c))\n",
    "print(id(d))\n",
    "print(id(e))\n",
    "print(id(f))"
   ]
  },
  {
   "cell_type": "code",
   "execution_count": 77,
   "id": "c85d2efa",
   "metadata": {},
   "outputs": [
    {
     "name": "stdout",
     "output_type": "stream",
     "text": [
      "[1, 2, 3, 'python', 'python', 'python', 'python', 'python']\n",
      "5\n"
     ]
    }
   ],
   "source": [
    "d.append('python')\n",
    "\n",
    "print(d)\n",
    "print(a)"
   ]
  },
  {
   "cell_type": "markdown",
   "id": "1d7a9257",
   "metadata": {},
   "source": []
  }
 ],
 "metadata": {
  "kernelspec": {
   "display_name": "Python 3",
   "language": "python",
   "name": "python3"
  },
  "language_info": {
   "codemirror_mode": {
    "name": "ipython",
    "version": 3
   },
   "file_extension": ".py",
   "mimetype": "text/x-python",
   "name": "python",
   "nbconvert_exporter": "python",
   "pygments_lexer": "ipython3",
   "version": "3.8.8"
  }
 },
 "nbformat": 4,
 "nbformat_minor": 5
}
