{
 "cells": [
  {
   "cell_type": "code",
   "execution_count": 3,
   "id": "0f0caf90",
   "metadata": {},
   "outputs": [
    {
     "name": "stdout",
     "output_type": "stream",
     "text": [
      "Hello world\n"
     ]
    }
   ],
   "source": [
    "print(\"Hello world\")"
   ]
  },
  {
   "cell_type": "code",
   "execution_count": 4,
   "id": "eec23fcd",
   "metadata": {},
   "outputs": [
    {
     "name": "stdout",
     "output_type": "stream",
     "text": [
      "Hello World again\n"
     ]
    }
   ],
   "source": [
    "print(\"Hello World again\")"
   ]
  },
  {
   "cell_type": "markdown",
   "id": "0ed62ac6",
   "metadata": {},
   "source": [
    "html  -> Hyper text markup language \n"
   ]
  },
  {
   "cell_type": "markdown",
   "id": "4c4ccd07",
   "metadata": {},
   "source": [
    "# Markdown syntax\n",
    "\n",
    "## Heading2\n",
    "### Heading3\n",
    "####Heading4\n",
    "\n",
    "\n",
    "</h1>Markdown syntax</h1>"
   ]
  },
  {
   "cell_type": "markdown",
   "id": "ac362ab6",
   "metadata": {},
   "source": [
    "## shortcuts for jupiter notebook\n",
    "\n",
    "1. shift+enter -> for executing current cell\n",
    "2. EscA -> for inserting a new cell  above the current cell\n",
    "3. EscB -> for inserting a new cell below the current cell\n",
    "4. EscM -> converting code cell to the markdown cell\n",
    "5. EscY -> converting markdown cell into the code cell \n",
    "6. EscDD -> Delete the current cell\n",
    "7. ESCL -> FOR TOGGLING THE CURRENT CELL LINE NUMBERS\n",
    "8. CTRL+S -> SAVING JUPITER NOTEBOOK"
   ]
  },
  {
   "cell_type": "markdown",
   "id": "032f847a",
   "metadata": {},
   "source": [
    "### insertion of image \n",
    "\n",
    "\n",
    "#### syntax ![python logo](https://images.ctfassets.net/mrop88jh71hl/55rrbZfwMaURHZKAUc5oOW/9e5fe805eb03135b82e962e92169ce6d/python-programming-language.png)"
   ]
  },
  {
   "cell_type": "markdown",
   "id": "da467d7d",
   "metadata": {},
   "source": [
    "#### inserting hyper link \n",
    "\n",
    "\n",
    "####[python](https://www.python.org/)"
   ]
  },
  {
   "cell_type": "markdown",
   "id": "5c9caf3e",
   "metadata": {},
   "source": [
    "### tabular data \n",
    "\n",
    "|name|rollno|emailid|\n",
    "|----|------|-------|\n",
    "|std1|roll1|email1|\n",
    "|std2|roll2|email2|\n",
    "|std3|roll3|email3|\n",
    "|std4|roll4|email5|\n"
   ]
  },
  {
   "cell_type": "markdown",
   "id": "466a3912",
   "metadata": {},
   "source": [
    "#### inserting code\n",
    "\n",
    "c code for helloworld \n",
    "'''c\n",
    "\n",
    "#include<stdio.h>\n",
    "main()\n",
    "{\n",
    "print(\"Hello world\");\n",
    "}\n",
    "'''\n",
    "\n",
    "python code for helloworld \n",
    "\n",
    "'''python\n",
    "print(\"hello world\")"
   ]
  },
  {
   "cell_type": "code",
   "execution_count": 8,
   "id": "a52a3bb5",
   "metadata": {},
   "outputs": [
    {
     "name": "stdout",
     "output_type": "stream",
     "text": [
      "hello world\n"
     ]
    }
   ],
   "source": [
    "print(\"hello world\")"
   ]
  },
  {
   "cell_type": "code",
   "execution_count": 13,
   "id": "cf0d66e1",
   "metadata": {},
   "outputs": [
    {
     "ename": "SyntaxError",
     "evalue": "invalid syntax (<ipython-input-13-1c8eee06044e>, line 1)",
     "output_type": "error",
     "traceback": [
      "\u001b[1;36m  File \u001b[1;32m\"<ipython-input-13-1c8eee06044e>\"\u001b[1;36m, line \u001b[1;32m1\u001b[0m\n\u001b[1;33m    import.random\u001b[0m\n\u001b[1;37m          ^\u001b[0m\n\u001b[1;31mSyntaxError\u001b[0m\u001b[1;31m:\u001b[0m invalid syntax\n"
     ]
    }
   ],
   "source": [
    "import.random\n",
    "n=20\n",
    "to-be-guessed = int(n*random.raandom())\n",
    "guess = 0\n",
    "while guess : = to-be-guessed\n",
    "    guess = int(input(\"new number: \"))\n",
    "    if guess>0;\n",
    "    if guess > to-be-guessed;\n",
    "    print(\"number too large\")\n",
    "elif guess < to-be-guessed;\n",
    " print(\"number too small\")\n",
    "else \n",
    "     print(\"sorry that you are giving up\")\n",
    "     break;\n",
    "else\n",
    "    print(\"congaratulations you have made it:\")\n",
    "    \n"
   ]
  },
  {
   "cell_type": "code",
   "execution_count": 14,
   "id": "15ae0739",
   "metadata": {},
   "outputs": [
    {
     "name": "stdout",
     "output_type": "stream",
     "text": [
      "Number: 0\n",
      "good bye\n",
      "Number: 1\n",
      "good bye\n",
      "Number: 2\n",
      "good bye\n",
      "Number: 3\n",
      "good bye\n",
      "Number: 4\n",
      "good bye\n",
      "Number: 5\n",
      "good bye\n",
      "Number: 6\n",
      "good bye\n",
      "Number: 7\n",
      "good bye\n",
      "Number: 8\n",
      "good bye\n"
     ]
    }
   ],
   "source": [
    "count = 0\n",
    "while count<9:\n",
    "    print(\"Number:\", count)\n",
    "    count = count+1\n",
    "    print(\"good bye\")"
   ]
  },
  {
   "cell_type": "code",
   "execution_count": null,
   "id": "c78b00d7",
   "metadata": {},
   "outputs": [],
   "source": []
  }
 ],
 "metadata": {
  "kernelspec": {
   "display_name": "Python 3",
   "language": "python",
   "name": "python3"
  },
  "language_info": {
   "codemirror_mode": {
    "name": "ipython",
    "version": 3
   },
   "file_extension": ".py",
   "mimetype": "text/x-python",
   "name": "python",
   "nbconvert_exporter": "python",
   "pygments_lexer": "ipython3",
   "version": "3.8.8"
  }
 },
 "nbformat": 4,
 "nbformat_minor": 5
}
